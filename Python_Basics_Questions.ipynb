{
  "nbformat": 4,
  "nbformat_minor": 0,
  "metadata": {
    "colab": {
      "provenance": []
    },
    "kernelspec": {
      "name": "python3",
      "display_name": "Python 3"
    },
    "language_info": {
      "name": "python"
    }
  },
  "cells": [
    {
      "cell_type": "markdown",
      "source": [
        "# Python Basics Questions\n",
        "\n"
      ],
      "metadata": {
        "id": "DIRxovhHpm3d"
      }
    },
    {
      "cell_type": "markdown",
      "source": [
        "1.  What is Python, and why is it popular?\n",
        "    - Python is a high-level, beginner-friendly programming language known for its simple, English-like syntax that makes it easy to learn and use. It’s incredibly versatile—powering everything from websites and mobile apps to artificial intelligence, data analysis, automation, and even games. One of the biggest reasons for its popularity is its massive, supportive community that provides countless libraries and resources, allowing developers to solve problems faster without reinventing the wheel. Its readability, flexibility, and real-world usefulness make Python a go-to choice for beginners and professionals alike, cementing its place as one of the most widely used languages in the world.\n",
        "\n",
        "2.  What is an interpreter in Python?\n",
        "    -  The Python interpreter is like a translator that helps my computer understand what I’m saying. When I write code in Python, I’m using a language that’s easy for me to read, but my computer only understands machine code. The interpreter steps in, reads my code line by line, and instantly turns it into instructions my computer can follow. I don’t have to compile the whole program first—I can just write something, run it right away, and see the results. This makes it easier for me to test ideas, fix mistakes quickly, and experiment freely.\n",
        "\n",
        "3.  What are pre-defined keywords in Python?\n",
        "    - In Python, pre-defined keywords are like special reserved words that I can’t use for naming my own variables, functions, or anything else, because Python has already assigned them a specific meaning in the language. These keywords are the backbone of Python’s syntax—they tell Python how to understand and structure my code. Words like if, else, for, while, True, False, None, def, and class are all examples. They’re case-sensitive, so True works as a keyword, but true doesn’t. If I ever try to use a keyword as a name, Python immediately throws an error because it would get confused between my intended meaning and its built-in purpose. I can even check the full list of these keywords in my Python version by importing the keyword module and printing keyword.kwlist. I like to think of them as “reserved seats” in Python’s theater—they’re already taken, and I just have to respect their special role.\n",
        "\n",
        "4.  Can keywords be used as variable names?\n",
        "    - No, keywords cannot be used  as variable names in Python because they’re already reserved for specific purposes in the language. If we try to use one—like writing if = 5—Python immediately gives a syntax error, since it won’t know whether we are trying to store a value or write part of its syntax. To avoid this, we should always make sure that our variable names are different from any keywords, and if we are unsure, we can quickly check the keyword list using import keyword and keyword.kwlist.\n",
        "\n",
        "5.  What is mutability in Python?\n",
        "    - In Python, mutability is the property that decides whether we can change an object after it’s created. If an object is mutable, we can alter its contents—such as adding, removing, or updating elements—without creating a new object in memory. Lists, dictionaries, and sets are common mutable types. If an object is immutable, we can’t modify it after creation; instead, any change we attempt will result in a completely new object being made. Strings, tuples, and integers are examples of immutable types. We can think of mutability like having a reusable whiteboard for mutable objects, where we can write and erase freely, while immutable objects are like printed pages—if we want something different, we have to print a new page entirely.\n",
        "\n",
        "6.  Why are lists mutable, but tuples are immutable?         \n",
        "    - Lists are mutable because Python is designed to let us change their contents directly—whether we want to add, remove, or modify elements—without creating a whole new list in memory. This makes lists flexible and efficient when we need to work with data that changes over time. Tuples, on the other hand, are immutable by design, meaning once they’re created, we can’t alter their contents. This immutability makes tuples faster, hashable (so they can be used as dictionary keys), and safer for storing fixed collections of items that shouldn’t be accidentally modified. In short, Python gives us lists when we want changeable data, and tuples when we want data that stays locked in place.\n",
        "\n",
        "7.  What is the difference between “==” and “is” operators in Python?\n",
        "    - In Python, == checks for value equality, while is checks for identity. When we use ==, we’re asking Python whether the values stored in two objects are the same, regardless of whether they are stored in different memory locations. For example, two different lists with the same elements will return True with ==. The is operator, on the other hand, asks whether both variables point to the exact same object in memory. Even if two objects have the same value, is will only return True if they share the same memory address. In simple terms, == asks “Do these look the same?” while is asks “Are these literally the same thing?”\n",
        "\n",
        "8.  What are logical operators in Python?\n",
        "    - In Python, logical operators are keywords that help us combine or modify conditions to decide whether something is true or false. There are three main logical operators: and, or, and not. The and operator gives a true result only when both conditions are true, while the or operator gives a true result if at least one of the conditions is true. The not operator simply reverses the truth value—if something is true, it makes it false, and if it’s false, it makes it true. We often use these operators in decision-making, like in if statements, to control how our code behaves based on multiple checks at once. They act like connectors in our reasoning, helping us combine simple conditions into more complex ones.\n",
        "      \n",
        "9.  What is type casting in Python?\n",
        "    - In Python, type casting is the process of converting a value from one data type to another. We use it when we need our data in a specific format, such as turning a string of numbers into an integer for calculations or converting an integer into a string for display purposes. Python gives us built-in functions like int(), float(), str(), list(), and tuple() to perform these conversions. There are two types of type casting: implicit casting, where Python automatically converts data types when needed (like turning an integer into a float during arithmetic), and explicit casting, where we manually convert a value using these functions. Type casting helps us make our data compatible with the operations we want to perform.\n",
        "\n",
        "10. What is the difference between implicit and explicit type casting?\n",
        "    - The difference between implicit and explicit type casting is about who decides to perform the conversion—Python or us. In implicit type casting, Python automatically changes a value’s data type when needed, usually to prevent errors during operations; for example, if we add an integer and a float, Python will automatically convert the integer into a float before performing the addition. In explicit type casting, we manually change a value’s data type using built-in functions like int(), float(), str(), list(), or tuple(). For instance, if we have a string \"25\" and want to use it in a calculation, we explicitly convert it to an integer using int(\"25\"). In short, implicit casting happens behind the scenes without our intervention, while explicit casting happens because we choose to make it happen.    \n",
        "\n",
        "11. What is the purpose of conditional statements in Python?       \n",
        "    - In Python, the purpose of conditional statements is to let us make decisions in our code based on certain conditions. They allow our program to choose different paths of execution depending on whether a given condition is true or false. Using statements like if, elif, and else, we can control what actions are taken in different situations. For example, we might use a conditional statement to check if a user’s age is above 18 and then either grant or deny access based on that check. In short, conditional statements give our programs the ability to think and react dynamically, rather than just running the same instructions every time.\n",
        "\n",
        "12.  How does the elif statement work?\n",
        "     - The elif statement lets us check multiple conditions one after another without writing separate if statements for each. It comes after an initial if statement and is only evaluated if the if condition is false. If the elif condition is true, Python runs the code under it and skips the rest of the conditions. We can have as many elif statements as we need, but only the first one that evaluates to true will run. If none of the if or elif conditions are true, and we have an else block, the code inside else will execute. This helps us write cleaner and more efficient decision-making code without nesting multiple if statements.\n",
        "\n",
        "13.  What is the difference between for and while loops?\n",
        "     - The difference between for and while loops lies in how they control repetition. A for loop is used when we know exactly how many times we want to run a block of code or when we’re iterating over a sequence like a list, tuple, string, or range. It automatically goes through each item in the sequence and stops when there are no more items left. A while loop, on the other hand, is used when we don’t know in advance how many times we’ll need to repeat something—it keeps running as long as a given condition remains true. In short, for loops are best when we have a predefined set of items or a known number of iterations, while while loops are better for running code until a certain condition changes.\n",
        "\n",
        "14.  Describe a scenario where a while loop is more suitable than a for loop.\n",
        "     - A while loop is more suitable than a for loop when we don’t know in advance how many times we’ll need to repeat something and the stopping point depends on a condition being met during the process. For example, if we’re building a program that keeps asking a user to guess a secret number until they get it right, we can’t predict how many guesses they’ll take. In this case, a while loop is perfect because it will keep running the guessing code as long as the user’s guess is incorrect, and it will only stop once the condition (correct guess) becomes true.\n",
        "     "
      ],
      "metadata": {
        "id": "pGT1jqyktU4V"
      }
    },
    {
      "cell_type": "code",
      "execution_count": 1,
      "metadata": {
        "id": "Pn-QR_83pfSk",
        "colab": {
          "base_uri": "https://localhost:8080/"
        },
        "collapsed": true,
        "outputId": "dcec396f-e3ae-44bf-a550-f774718706cd"
      },
      "outputs": [
        {
          "output_type": "stream",
          "name": "stdout",
          "text": [
            "Hello, World!\n"
          ]
        }
      ],
      "source": [
        "# 1. Write a Python program to print \"Hello, World!\"\n",
        "\n",
        "print(\"Hello, World!\")\n"
      ]
    },
    {
      "cell_type": "code",
      "source": [
        "# 2. Write a Python program that displays your name and age.\n",
        "\n",
        "name = \"Aatreya Pal\"\n",
        "age = 22\n",
        "\n",
        "print(\"Name:\", name)\n",
        "print(\"Age:\", age)"
      ],
      "metadata": {
        "colab": {
          "base_uri": "https://localhost:8080/"
        },
        "collapsed": true,
        "id": "tTLBnjzovYsO",
        "outputId": "c7c5f1a4-84aa-4664-a744-0c83e7182507"
      },
      "execution_count": 2,
      "outputs": [
        {
          "output_type": "stream",
          "name": "stdout",
          "text": [
            "Name: Aatreya Pal\n",
            "Age: 22\n"
          ]
        }
      ]
    },
    {
      "cell_type": "code",
      "source": [
        "# 3. Write code to print all the pre-defined keywords in Python using the keyword library.\n",
        "\n",
        "import keyword\n",
        "\n",
        "# Get the list of Python keywords\n",
        "keywords_list = keyword.kwlist\n",
        "\n",
        "# Print all keywords\n",
        "print(\"Python Keywords:\")\n",
        "for kw in keywords_list:\n",
        "    print(kw)"
      ],
      "metadata": {
        "colab": {
          "base_uri": "https://localhost:8080/"
        },
        "collapsed": true,
        "id": "GXw7sbAIv2Qa",
        "outputId": "5cbf2848-728c-4b1e-93dc-8ec036b82acf"
      },
      "execution_count": 3,
      "outputs": [
        {
          "output_type": "stream",
          "name": "stdout",
          "text": [
            "Python Keywords:\n",
            "False\n",
            "None\n",
            "True\n",
            "and\n",
            "as\n",
            "assert\n",
            "async\n",
            "await\n",
            "break\n",
            "class\n",
            "continue\n",
            "def\n",
            "del\n",
            "elif\n",
            "else\n",
            "except\n",
            "finally\n",
            "for\n",
            "from\n",
            "global\n",
            "if\n",
            "import\n",
            "in\n",
            "is\n",
            "lambda\n",
            "nonlocal\n",
            "not\n",
            "or\n",
            "pass\n",
            "raise\n",
            "return\n",
            "try\n",
            "while\n",
            "with\n",
            "yield\n"
          ]
        }
      ]
    },
    {
      "cell_type": "code",
      "source": [
        "# 4.  Write a program that checks if a given word is a Python keyword.\n",
        "\n",
        "import keyword\n",
        "\n",
        "# Ask the user for a word\n",
        "word = input(\"Enter a word: \")\n",
        "\n",
        "# Check if the word is a Python keyword\n",
        "if keyword.iskeyword(word):\n",
        "    print(f\"'{word}' is a Python keyword.\")\n",
        "else:\n",
        "    print(f\"'{word}' is not a Python keyword.\")\n"
      ],
      "metadata": {
        "colab": {
          "base_uri": "https://localhost:8080/"
        },
        "collapsed": true,
        "id": "64HAx2RPwcp7",
        "outputId": "f661005f-28b0-4927-b60e-525c300234d8"
      },
      "execution_count": 4,
      "outputs": [
        {
          "output_type": "stream",
          "name": "stdout",
          "text": [
            "Enter a word: True\n",
            "'True' is a Python keyword.\n"
          ]
        }
      ]
    },
    {
      "cell_type": "code",
      "source": [
        "# 5. Create a list and tuple in Python, and demonstrate how attempting to change an element works differently for each.\n",
        "\n",
        "# Creating a list and a tuple\n",
        "my_list = [10, 20, 30]\n",
        "my_tuple = (10, 20, 30)\n",
        "\n",
        "# Modifying the list\n",
        "print(\"Original list:\", my_list)\n",
        "my_list[1] = 99  # Changing the second element\n",
        "print(\"Modified list:\", my_list)\n",
        "\n",
        "# Trying to modify the tuple\n",
        "print(\"Original tuple:\", my_tuple)\n",
        "try:\n",
        "    my_tuple[1] = 99  # This will cause an error\n",
        "except TypeError as e:\n",
        "    print(\"Error:\", e)"
      ],
      "metadata": {
        "colab": {
          "base_uri": "https://localhost:8080/"
        },
        "collapsed": true,
        "id": "--ulQoROxLN_",
        "outputId": "91f9c113-8e9c-4bdd-84ad-45bfb25db8cf"
      },
      "execution_count": 5,
      "outputs": [
        {
          "output_type": "stream",
          "name": "stdout",
          "text": [
            "Original list: [10, 20, 30]\n",
            "Modified list: [10, 99, 30]\n",
            "Original tuple: (10, 20, 30)\n",
            "Error: 'tuple' object does not support item assignment\n"
          ]
        }
      ]
    },
    {
      "cell_type": "code",
      "source": [
        "# 6.  Write a function to demonstrate the behavior of mutable and immutable arguments.\n",
        "\n",
        "# Function that tries to modify both arguments\n",
        "def modify_values(num, my_list):\n",
        "    num += 10            # Attempt to change the integer\n",
        "    my_list.append(99)   # Attempt to change the list\n",
        "    print(\"Inside function - num:\", num)\n",
        "    print(\"Inside function - my_list:\", my_list)\n",
        "\n",
        "# Immutable argument (integer)\n",
        "x = 5\n",
        "# Mutable argument (list)\n",
        "y = [1, 2, 3]\n",
        "\n",
        "print(\"Before function call - x:\", x)\n",
        "print(\"Before function call - y:\", y)\n",
        "\n",
        "modify_values(x, y)\n",
        "\n",
        "print(\"After function call - x:\", x)  # Unchanged (immutable)\n",
        "print(\"After function call - y:\", y)  # Changed (mutable)"
      ],
      "metadata": {
        "colab": {
          "base_uri": "https://localhost:8080/"
        },
        "collapsed": true,
        "id": "WUpnFHhvzxbe",
        "outputId": "6fd9641b-cf81-4f43-c343-b960786ee695"
      },
      "execution_count": 6,
      "outputs": [
        {
          "output_type": "stream",
          "name": "stdout",
          "text": [
            "Before function call - x: 5\n",
            "Before function call - y: [1, 2, 3]\n",
            "Inside function - num: 15\n",
            "Inside function - my_list: [1, 2, 3, 99]\n",
            "After function call - x: 5\n",
            "After function call - y: [1, 2, 3, 99]\n"
          ]
        }
      ]
    },
    {
      "cell_type": "code",
      "source": [
        "# 7.  Write a program that performs basic arithmetic operations on two user-input numbers.\n",
        "\n",
        "# Taking user input\n",
        "num1 = float(input(\"Enter first number: \"))\n",
        "num2 = float(input(\"Enter second number: \"))\n",
        "\n",
        "# Performing arithmetic operations\n",
        "addition = num1 + num2\n",
        "subtraction = num1 - num2\n",
        "multiplication = num1 * num2\n",
        "division = num1 / num2 if num2 != 0 else \"Undefined (division by zero)\"\n",
        "\n",
        "# Displaying results\n",
        "print(\"\\nResults:\")\n",
        "print(\"Addition:\", addition)\n",
        "print(\"Subtraction:\", subtraction)\n",
        "print(\"Multiplication:\", multiplication)\n",
        "print(\"Division:\", division)"
      ],
      "metadata": {
        "colab": {
          "base_uri": "https://localhost:8080/"
        },
        "collapsed": true,
        "id": "cmXjkVhU0TcD",
        "outputId": "067eab6d-2d4a-4278-e1ae-88f68d2ca366"
      },
      "execution_count": 9,
      "outputs": [
        {
          "output_type": "stream",
          "name": "stdout",
          "text": [
            "Enter first number: 89\n",
            "Enter second number: 7\n",
            "\n",
            "Results:\n",
            "Addition: 96.0\n",
            "Subtraction: 82.0\n",
            "Multiplication: 623.0\n",
            "Division: 12.714285714285714\n"
          ]
        }
      ]
    },
    {
      "cell_type": "code",
      "source": [
        "# 8. Write a program to demonstrate the use of logical operators.\n",
        "\n",
        "# Taking user input\n",
        "age = int(input(\"Enter your age: \"))\n",
        "has_id = input(\"Do you have a valid ID? (yes/no): \").lower()\n",
        "\n",
        "# Using logical operators\n",
        "if age >= 18 and has_id == \"yes\":\n",
        "    print(\"You are eligible to enter.\")\n",
        "elif age >= 18 and has_id == \"no\":\n",
        "    print(\"You need a valid ID to enter.\")\n",
        "elif age < 18 or has_id == \"no\":\n",
        "    print(\"You are not eligible to enter.\")\n",
        "else:\n",
        "    print(\"Invalid input.\")\n",
        "\n",
        "# Using not operator example\n",
        "if not age < 18:\n",
        "    print(\"You are an adult.\")\n",
        "else:\n",
        "    print(\"You are a minor.\")"
      ],
      "metadata": {
        "colab": {
          "base_uri": "https://localhost:8080/"
        },
        "collapsed": true,
        "id": "j78yfjtm1PWS",
        "outputId": "6a0129e7-cf52-4cfa-eecc-129a7ccf6bfc"
      },
      "execution_count": 10,
      "outputs": [
        {
          "output_type": "stream",
          "name": "stdout",
          "text": [
            "Enter your age: 22\n",
            "Do you have a valid ID? (yes/no): yes\n",
            "You are eligible to enter.\n",
            "You are an adult.\n"
          ]
        }
      ]
    },
    {
      "cell_type": "code",
      "source": [
        "# 9. Write a Python program to convert user input from string to integer, float, and boolean types.\n",
        "\n",
        "# Taking user input as a string\n",
        "user_input = input(\"Enter a value: \")\n",
        "\n",
        "# Converting to integer\n",
        "try:\n",
        "    int_value = int(user_input)\n",
        "except ValueError:\n",
        "    int_value = \"Cannot convert to integer\"\n",
        "\n",
        "# Converting to float\n",
        "try:\n",
        "    float_value = float(user_input)\n",
        "except ValueError:\n",
        "    float_value = \"Cannot convert to float\"\n",
        "\n",
        "# Converting to boolean\n",
        "# In Python, any non-empty string converts to True, empty string converts to False\n",
        "bool_value = bool(user_input)\n",
        "\n",
        "# Displaying results\n",
        "print(\"\\nConversions:\")\n",
        "print(\"String value:\", user_input)\n",
        "print(\"Integer value:\", int_value)\n",
        "print(\"Float value:\", float_value)\n",
        "print(\"Boolean value:\", bool_value)"
      ],
      "metadata": {
        "colab": {
          "base_uri": "https://localhost:8080/"
        },
        "collapsed": true,
        "id": "X9VtId9D1wFS",
        "outputId": "12294f2f-ee29-4abd-a5a9-01161655ff46"
      },
      "execution_count": 11,
      "outputs": [
        {
          "output_type": "stream",
          "name": "stdout",
          "text": [
            "Enter a value: 57\n",
            "\n",
            "Conversions:\n",
            "String value: 57\n",
            "Integer value: 57\n",
            "Float value: 57.0\n",
            "Boolean value: True\n"
          ]
        }
      ]
    },
    {
      "cell_type": "code",
      "source": [
        "# 10. Write code to demonstrate type casting with list elements.\n",
        "\n",
        "# Original list with string numbers\n",
        "str_list = [\"10\", \"20\", \"30\", \"40\"]\n",
        "\n",
        "print(\"Original list (strings):\", str_list)\n",
        "\n",
        "# Converting each element to integer\n",
        "int_list = [int(x) for x in str_list]\n",
        "print(\"Converted to integers:\", int_list)\n",
        "\n",
        "# Converting each element to float\n",
        "float_list = [float(x) for x in str_list]\n",
        "print(\"Converted to floats:\", float_list)\n",
        "\n",
        "# Converting integers to strings again\n",
        "back_to_str = [str(x) for x in int_list]\n",
        "print(\"Converted back to strings:\", back_to_str)"
      ],
      "metadata": {
        "colab": {
          "base_uri": "https://localhost:8080/"
        },
        "collapsed": true,
        "id": "4XgAOPFq2LkU",
        "outputId": "7d2c13e8-fcd1-461d-a67e-490b6c326b7a"
      },
      "execution_count": 12,
      "outputs": [
        {
          "output_type": "stream",
          "name": "stdout",
          "text": [
            "Original list (strings): ['10', '20', '30', '40']\n",
            "Converted to integers: [10, 20, 30, 40]\n",
            "Converted to floats: [10.0, 20.0, 30.0, 40.0]\n",
            "Converted back to strings: ['10', '20', '30', '40']\n"
          ]
        }
      ]
    },
    {
      "cell_type": "code",
      "source": [
        "# 11. Write a program that checks if a number is positive, negative, or zero.\n",
        "\n",
        "# Taking user input\n",
        "num = float(input(\"Enter a number: \"))\n",
        "\n",
        "# Checking the number\n",
        "if num > 0:\n",
        "    print(\"The number is positive.\")\n",
        "elif num < 0:\n",
        "    print(\"The number is negative.\")\n",
        "else:\n",
        "    print(\"The number is zero.\")"
      ],
      "metadata": {
        "colab": {
          "base_uri": "https://localhost:8080/"
        },
        "collapsed": true,
        "id": "IlGGAwNS2ty6",
        "outputId": "25af3fdc-ccde-425f-b090-6efa827206b9"
      },
      "execution_count": 14,
      "outputs": [
        {
          "output_type": "stream",
          "name": "stdout",
          "text": [
            "Enter a number: 68\n",
            "The number is positive.\n"
          ]
        }
      ]
    },
    {
      "cell_type": "code",
      "source": [
        "# 12. Write a for loop to print numbers from 1 to 10.\n",
        "\n",
        "# Printing numbers from 1 to 10\n",
        "for num in range(1, 11):\n",
        "    print(num)"
      ],
      "metadata": {
        "colab": {
          "base_uri": "https://localhost:8080/"
        },
        "collapsed": true,
        "id": "7YkD86XH3RA_",
        "outputId": "0c235c68-056a-4a4c-fc94-1dfb5a551b1e"
      },
      "execution_count": 15,
      "outputs": [
        {
          "output_type": "stream",
          "name": "stdout",
          "text": [
            "1\n",
            "2\n",
            "3\n",
            "4\n",
            "5\n",
            "6\n",
            "7\n",
            "8\n",
            "9\n",
            "10\n"
          ]
        }
      ]
    },
    {
      "cell_type": "code",
      "source": [
        "# 13. Write a Python program to find the sum of all even numbers between 1 and 50.\n",
        "\n",
        "# Initialize sum\n",
        "even_sum = 0\n",
        "\n",
        "# Loop through numbers 1 to 50\n",
        "for num in range(1, 51):\n",
        "    if num % 2 == 0:  # Check if the number is even\n",
        "        even_sum += num\n",
        "\n",
        "# Display the result\n",
        "print(\"The sum of all even numbers between 1 and 50 is:\", even_sum)"
      ],
      "metadata": {
        "colab": {
          "base_uri": "https://localhost:8080/"
        },
        "collapsed": true,
        "id": "g4Q8xVD53h_m",
        "outputId": "ed0016b1-dc9e-4d83-a8b3-807af3eb33b3"
      },
      "execution_count": 16,
      "outputs": [
        {
          "output_type": "stream",
          "name": "stdout",
          "text": [
            "The sum of all even numbers between 1 and 50 is: 650\n"
          ]
        }
      ]
    },
    {
      "cell_type": "code",
      "source": [
        "# 14. Write a program to reverse a string using a while loop.\n",
        "\n",
        "# Taking user input\n",
        "text = input(\"Enter a string: \")\n",
        "\n",
        "# Initialize variables\n",
        "reversed_text = \"\"\n",
        "index = len(text) - 1\n",
        "\n",
        "# Loop backwards through the string\n",
        "while index >= 0:\n",
        "    reversed_text += text[index]\n",
        "    index -= 1\n",
        "\n",
        "# Display the reversed string\n",
        "print(\"Reversed string:\", reversed_text)"
      ],
      "metadata": {
        "colab": {
          "base_uri": "https://localhost:8080/"
        },
        "collapsed": true,
        "id": "EdaAcpbT3xYl",
        "outputId": "a317a8a7-5a13-48f7-8e84-0655bf022237"
      },
      "execution_count": 18,
      "outputs": [
        {
          "output_type": "stream",
          "name": "stdout",
          "text": [
            "Enter a string: 73\n",
            "Reversed string: 37\n"
          ]
        }
      ]
    },
    {
      "cell_type": "code",
      "source": [
        "# 15. Write a Python program to calculate the factorial of a number provided by the user using a while loop.\n",
        "\n",
        "# Taking user input\n",
        "num = int(input(\"Enter a number: \"))\n",
        "\n",
        "# Initialize variables\n",
        "factorial = 1\n",
        "i = 1\n",
        "\n",
        "# Calculate factorial using while loop\n",
        "while i <= num:\n",
        "    factorial *= i\n",
        "    i += 1\n",
        "\n",
        "# Display the result\n",
        "print(f\"The factorial of {num} is: {factorial}\")"
      ],
      "metadata": {
        "colab": {
          "base_uri": "https://localhost:8080/"
        },
        "collapsed": true,
        "id": "FhCiTlRQ4TyO",
        "outputId": "d3627157-9068-4651-f8f6-60c99db8a724"
      },
      "execution_count": 19,
      "outputs": [
        {
          "output_type": "stream",
          "name": "stdout",
          "text": [
            "Enter a number: 34\n",
            "The factorial of 34 is: 295232799039604140847618609643520000000\n"
          ]
        }
      ]
    }
  ]
}